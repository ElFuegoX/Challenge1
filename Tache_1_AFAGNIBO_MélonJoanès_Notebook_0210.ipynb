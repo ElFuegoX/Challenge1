{
 "cells": [
  {
   "cell_type": "markdown",
   "id": "e1b2ff73",
   "metadata": {},
   "source": []
  },
  {
   "cell_type": "markdown",
   "id": "43c3f0e5",
   "metadata": {},
   "source": [
    "## ANIP-Challenge 1\n",
    "# Tâche 1: Collecte & Préparation des Données\n",
    "\n",
    "Ce notebook a pour objectif d'obtenir un dataset constitué de plusieurs fichiers CSV pour pouvoir réaliser les tâches 2 et 3 du challenge.\n"
   ]
  },
  {
   "cell_type": "code",
   "execution_count": 2,
   "id": "96596f85",
   "metadata": {},
   "outputs": [],
   "source": [
    "#Importation des packages\n",
    "\n",
    "import pandas as pd\n",
    "import numpy as np"
   ]
  },
  {
   "cell_type": "markdown",
   "id": "d150a4f9",
   "metadata": {},
   "source": [
    "# Collecte des données démographiques"
   ]
  },
  {
   "cell_type": "code",
   "execution_count": 3,
   "id": "df7dc2b0",
   "metadata": {},
   "outputs": [
    {
     "name": "stderr",
     "output_type": "stream",
     "text": [
      "C:\\Users\\afagn\\AppData\\Local\\Temp\\ipykernel_12568\\2737023379.py:2: DtypeWarning: Columns (2,3,4,7) have mixed types. Specify dtype option on import or set low_memory=False.\n",
      "  data = pd.read_csv(data_path)\n"
     ]
    }
   ],
   "source": [
    "data_path = 'WPP2024_Demographic_Indicators_Medium.csv'\n",
    "data = pd.read_csv(data_path)\n",
    "\n",
    "columns_to_keep = [\n",
    "    'Location',\n",
    "    'Time',\n",
    "    'TPopulation1July',\n",
    "    'PopDensity',\n",
    "    'PopSexRatio',\n",
    "    'MedianAgePop',\n",
    "    'CBR',\n",
    "    'TFR',\n",
    "    'LEx',\n",
    "    'IMR',\n",
    "    'Q5',\n",
    "    'NetMigrations'\n",
    "]\n",
    "data2 = data[data['Location'].isin(['Benin', 'African Union: Western Africa'])][columns_to_keep]\n",
    "data3 = data2[data2['Time'] < 2025]\n",
    "demographic_data = data3.rename(columns={\n",
    "    'Location': 'Country',\n",
    "    'TPopulation1July': 'PopTotal',\n",
    "    'Time': 'Year'\n",
    "})\n",
    "\n",
    "demographic_data.to_csv('demographic_data.csv', index=False)\n",
    "\n"
   ]
  },
  {
   "cell_type": "markdown",
   "id": "c8805979",
   "metadata": {},
   "source": [
    "# Collecte de données sociales. "
   ]
  },
  {
   "cell_type": "code",
   "execution_count": 4,
   "id": "c5b65c00",
   "metadata": {},
   "outputs": [],
   "source": [
    "data_path2 = 'HDR25_Composite_indices_complete_time_series.csv'\n",
    "Data = pd.read_csv(data_path2, encoding='ISO-8859-1')\n",
    "\n",
    "\n",
    "columns_to_keep1 = [\n",
    "    'country',\n",
    "    'hdi_1990', 'hdi_1991', 'hdi_1992', 'hdi_1993', 'hdi_1994', 'hdi_1995', 'hdi_1996', 'hdi_1997', 'hdi_1998', 'hdi_1999', 'hdi_2000', 'hdi_2001', 'hdi_2002', 'hdi_2003', 'hdi_2004', 'hdi_2005', 'hdi_2006', 'hdi_2007', 'hdi_2008', 'hdi_2009',\n",
    "    'hdi_2010', 'hdi_2011', 'hdi_2012', 'hdi_2013', 'hdi_2014', 'hdi_2015', 'hdi_2016', 'hdi_2017', 'hdi_2018', 'hdi_2019', 'hdi_2020', 'hdi_2021', 'hdi_2022', 'hdi_2023',\n",
    "    'mys_1990', 'mys_1991', 'mys_1992', 'mys_1993', 'mys_1994', 'mys_1995', 'mys_1996', 'mys_1997', 'mys_1998', 'mys_1999', 'mys_2000', 'mys_2001', 'mys_2002', 'mys_2003', 'mys_2004', 'mys_2005', 'mys_2006', 'mys_2007', 'mys_2008', 'mys_2009',\n",
    "    'mys_2010', 'mys_2011', 'mys_2012', 'mys_2013', 'mys_2014', 'mys_2015', 'mys_2016', 'mys_2017', 'mys_2018', 'mys_2019', 'mys_2020', 'mys_2021', 'mys_2022', 'mys_2023',\n",
    "    'gdi_1990', 'gdi_1991', 'gdi_1992', 'gdi_1993', 'gdi_1994', 'gdi_1995', 'gdi_1996', 'gdi_1997', 'gdi_1998', 'gdi_1999', 'gdi_2000', 'gdi_2001', 'gdi_2002', 'gdi_2003', 'gdi_2004', 'gdi_2005', 'gdi_2006', 'gdi_2007', 'gdi_2008',\n",
    "    'gdi_2009', 'gdi_2010', 'gdi_2011', 'gdi_2012', 'gdi_2013', 'gdi_2014', 'gdi_2015', 'gdi_2016', 'gdi_2017', 'gdi_2018', 'gdi_2019', 'gdi_2020', 'gdi_2021', 'gdi_2022', 'gdi_2023',\n",
    "    'gnipc_1990', 'gnipc_1991', 'gnipc_1992', 'gnipc_1993', 'gnipc_1994', 'gnipc_1995', 'gnipc_1996', 'gnipc_1997', 'gnipc_1998', 'gnipc_1999', 'gnipc_2000', 'gnipc_2001', 'gnipc_2002', 'gnipc_2003', 'gnipc_2004', 'gnipc_2005', 'gnipc_2006', 'gnipc_2007',\n",
    "    'gnipc_2008', 'gnipc_2009', 'gnipc_2010', 'gnipc_2011', 'gnipc_2012', 'gnipc_2013', 'gnipc_2014', 'gnipc_2015', 'gnipc_2016', 'gnipc_2017', 'gnipc_2018', 'gnipc_2019', 'gnipc_2020', 'gnipc_2021', 'gnipc_2022', 'gnipc_2023',\n",
    "    'gii_1990', 'gii_1991', 'gii_1992', 'gii_1993', 'gii_1994', 'gii_1995', 'gii_1996', 'gii_1997', 'gii_1998', 'gii_1999', 'gii_2000', 'gii_2001',\n",
    "    'gii_2002', 'gii_2003', 'gii_2004', 'gii_2005', 'gii_2006', 'gii_2007', 'gii_2008', 'gii_2009', 'gii_2010', 'gii_2011', 'gii_2012', 'gii_2013','gii_2014', 'gii_2015', 'gii_2016', 'gii_2017', 'gii_2018', 'gii_2019', 'gii_2020', 'gii_2021', 'gii_2022', 'gii_2023'\n",
    "] \n",
    "social_data = Data[Data['country'].isin(['Benin', 'Sub-Saharan Africa'])][columns_to_keep1]\n",
    "social_data.to_csv('social_data.csv', index=False)\n",
    "\n"
   ]
  },
  {
   "cell_type": "markdown",
   "id": "391f1487",
   "metadata": {},
   "source": [
    "# Collecte de données économiques"
   ]
  },
  {
   "cell_type": "code",
   "execution_count": 5,
   "id": "bb155ac4",
   "metadata": {},
   "outputs": [],
   "source": [
    "data_path3 = 'US_FdiFlowsStock.csv'\n",
    "DatA = pd.read_csv(data_path3)\n",
    "columns_to_keep = ['Year', 'Economy Label', 'Flow Label', 'Direction Label', 'US$ at current prices in millions', 'Percentage of total world']\n",
    "economic_data = (DatA[DatA['Economy Label'].isin(['Benin', 'Western Africa', 'Sub-Saharan Africa'])][columns_to_keep]).rename(columns={     \n",
    "    'Economy Label': 'Country',\n",
    "    'US$ at current prices in millions': 'FDI_Current',\n",
    "    'Percentage of total world': 'FDI_Percentage'\n",
    "})\n",
    "\n",
    "economic_data.to_csv('fdi_data.csv', index=False)\n"
   ]
  },
  {
   "cell_type": "code",
   "execution_count": 6,
   "id": "2c01c3b4",
   "metadata": {},
   "outputs": [],
   "source": [
    "data_path4 = 'US_GDPTotal.csv'\n",
    "DATA = pd.read_csv(data_path4)\n",
    "columns = [\n",
    "    'Year',\n",
    "    'Economy Label',\n",
    "    'US$ at current prices in millions',\n",
    "    'US$ at current prices per capita',\n",
    "    'US$ at constant prices (2015) in millions',\n",
    "    'US$ at constant prices (2015) per capita'\n",
    "]\n",
    "\n",
    "eco_data =  (DATA[columns][DATA['Economy Label'].isin(['Benin', 'Sub-Saharan Africa'])]).rename(columns={\n",
    "    'Economy Label': 'Country',\n",
    "    'US$ at current prices in millions': 'GDP_Current',\n",
    "    'US$ at current prices per capita': 'GDP_Current_PerCapita',\n",
    "    'US$ at constant prices (2015) in millions': 'GDP_Constant',\n",
    "    'US$ at constant prices (2015) per capita': 'GDP_Constant_PerCapita'\n",
    "})\n",
    "\n",
    "\n",
    "\n",
    "eco_data.to_csv('gdp_data.csv', index=False)\n"
   ]
  }
 ],
 "metadata": {
  "kernelspec": {
   "display_name": "Python 3",
   "language": "python",
   "name": "python3"
  },
  "language_info": {
   "codemirror_mode": {
    "name": "ipython",
    "version": 3
   },
   "file_extension": ".py",
   "mimetype": "text/x-python",
   "name": "python",
   "nbconvert_exporter": "python",
   "pygments_lexer": "ipython3",
   "version": "3.11.9"
  }
 },
 "nbformat": 4,
 "nbformat_minor": 5
}
